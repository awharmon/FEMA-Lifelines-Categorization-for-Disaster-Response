{
 "cells": [
  {
   "cell_type": "markdown",
   "metadata": {},
   "source": [
    "# Import Packages "
   ]
  },
  {
   "cell_type": "code",
   "execution_count": 1,
   "metadata": {},
   "outputs": [],
   "source": [
    "import pandas as pd\n",
    "import numpy as np\n",
    "import regex as re\n",
    "pd.set_option('display.max_columns', 50)"
   ]
  },
  {
   "cell_type": "markdown",
   "metadata": {},
   "source": [
    "# Load Data"
   ]
  },
  {
   "cell_type": "code",
   "execution_count": 2,
   "metadata": {},
   "outputs": [
    {
     "data": {
      "text/plain": [
       "(425, 25)"
      ]
     },
     "execution_count": 2,
     "metadata": {},
     "output_type": "execute_result"
    }
   ],
   "source": [
    "path0 = \"../Datasets/fema_ll_ss_houston.csv\"\n",
    "ss_df = pd.read_csv(path0)\n",
    "ss_df.shape"
   ]
  },
  {
   "cell_type": "code",
   "execution_count": 3,
   "metadata": {},
   "outputs": [
    {
     "data": {
      "text/plain": [
       "(2179, 25)"
      ]
     },
     "execution_count": 3,
     "metadata": {},
     "output_type": "execute_result"
    }
   ],
   "source": [
    "path1 = \"../Datasets/fema_ll_fws_houston.csv\"\n",
    "fws_df = pd.read_csv(path1)\n",
    "fws_df.shape"
   ]
  },
  {
   "cell_type": "code",
   "execution_count": 4,
   "metadata": {},
   "outputs": [
    {
     "data": {
      "text/plain": [
       "(5200, 25)"
      ]
     },
     "execution_count": 4,
     "metadata": {},
     "output_type": "execute_result"
    }
   ],
   "source": [
    "path2 = \"../Datasets/fema_ll_fws2_houston.csv\"\n",
    "fws2_df = pd.read_csv(path2)\n",
    "fws2_df.shape"
   ]
  },
  {
   "cell_type": "code",
   "execution_count": 5,
   "metadata": {},
   "outputs": [
    {
     "data": {
      "text/plain": [
       "(1914, 25)"
      ]
     },
     "execution_count": 5,
     "metadata": {},
     "output_type": "execute_result"
    }
   ],
   "source": [
    "path3 = \"../Datasets/fema_ll_hm_houston.csv\"\n",
    "hm_df = pd.read_csv(path3)\n",
    "hm_df.shape"
   ]
  },
  {
   "cell_type": "code",
   "execution_count": 6,
   "metadata": {},
   "outputs": [
    {
     "data": {
      "text/plain": [
       "(189, 25)"
      ]
     },
     "execution_count": 6,
     "metadata": {},
     "output_type": "execute_result"
    }
   ],
   "source": [
    "path4 = \"../Datasets/fema_ll_en_houston.csv\"\n",
    "en_df = pd.read_csv(path4)\n",
    "en_df.shape"
   ]
  },
  {
   "cell_type": "code",
   "execution_count": 7,
   "metadata": {},
   "outputs": [
    {
     "data": {
      "text/plain": [
       "(1361, 25)"
      ]
     },
     "execution_count": 7,
     "metadata": {},
     "output_type": "execute_result"
    }
   ],
   "source": [
    "path5 = \"../Datasets/fema_ll_coms_houston.csv\"\n",
    "coms_df = pd.read_csv(path5)\n",
    "coms_df.shape"
   ]
  },
  {
   "cell_type": "code",
   "execution_count": 8,
   "metadata": {},
   "outputs": [
    {
     "data": {
      "text/plain": [
       "(450, 25)"
      ]
     },
     "execution_count": 8,
     "metadata": {},
     "output_type": "execute_result"
    }
   ],
   "source": [
    "path6 = \"../Datasets/fema_ll_trans_houston.csv\"\n",
    "trans_df = pd.read_csv(path6)\n",
    "trans_df.shape"
   ]
  },
  {
   "cell_type": "code",
   "execution_count": 9,
   "metadata": {},
   "outputs": [
    {
     "data": {
      "text/plain": [
       "(1060, 25)"
      ]
     },
     "execution_count": 9,
     "metadata": {},
     "output_type": "execute_result"
    }
   ],
   "source": [
    "path7 = \"../Datasets/fema_ll_haz_houston.csv\"\n",
    "haz_df = pd.read_csv(path7)\n",
    "haz_df.shape"
   ]
  },
  {
   "cell_type": "markdown",
   "metadata": {},
   "source": [
    "# Combining Dataframes"
   ]
  },
  {
   "cell_type": "code",
   "execution_count": 10,
   "metadata": {},
   "outputs": [],
   "source": [
    "# Iterate over dataframes and assign Lifeline number according to list sequence.\n",
    "df_list = [ss_df, fws_df, hm_df, en_df, coms_df, trans_df, haz_df, fws2_df]\n",
    "\n",
    "for i, df in enumerate(df_list): \n",
    "    df['fema_l1'] = int(i + 1)"
   ]
  },
  {
   "cell_type": "code",
   "execution_count": 11,
   "metadata": {},
   "outputs": [],
   "source": [
    "# Combine the dataframes together\n",
    "df = ss_df.append(other = fws_df)\n",
    "df = df.append(other = hm_df)\n",
    "df = df.append(other = en_df)\n",
    "df = df.append(other = coms_df)\n",
    "df = df.append(other = trans_df)\n",
    "df = df.append(other = haz_df)\n",
    "# food, water, shelter overflow dataframe\n",
    "df = df.append(other = fws2_df)"
   ]
  },
  {
   "cell_type": "code",
   "execution_count": 12,
   "metadata": {},
   "outputs": [
    {
     "data": {
      "text/plain": [
       "(12778, 25)"
      ]
     },
     "execution_count": 12,
     "metadata": {},
     "output_type": "execute_result"
    }
   ],
   "source": [
    "df.shape"
   ]
  },
  {
   "cell_type": "code",
   "execution_count": 13,
   "metadata": {},
   "outputs": [],
   "source": [
    "# Map lifeline 2 (food & shelter) over the category overflow value, 8\n",
    "lifeline_dict =  {1:int(1), 2:int(2), 3:int(3), 4:int(4), 5:int(5), 6:int(6), 7:int(7), 8:int(2)}\n",
    "\n",
    "df['fema_l1'] = df['fema_l1'].map(lifeline_dict)"
   ]
  },
  {
   "cell_type": "code",
   "execution_count": 14,
   "metadata": {},
   "outputs": [],
   "source": [
    "# Save process so far\n",
    "path = \"./combined_df_houston.csv\"\n",
    "data_frame = df.to_csv(path, index = False)"
   ]
  },
  {
   "cell_type": "markdown",
   "metadata": {},
   "source": [
    "###  Other datacleaning"
   ]
  },
  {
   "cell_type": "markdown",
   "metadata": {},
   "source": [
    "### Summary:\n",
    "\n",
    "- Reset index and dropped the extra index column\n",
    "- It doesn't seem that there are any duplicates, though I am slightly skeptical of this because I know Yelp pulls from nearby cities. \n",
    "- Categories column cleaned up\n",
    "- When looking at the null values, we decided to drop the display phone, phone and image_url columns. \n",
    "- We also decided to drop the distance and transactions columns\n",
    "- We also combined address columns 1, 2 and 3 into one. \n",
    "- 68 missing zipcodes were filled in by plugging in the latitudes and logitudes using https://developers.google.com/maps/documentation/javascript/examples/geocoding-reverse\n",
    "- Price null values are going to be kept for now."
   ]
  },
  {
   "cell_type": "code",
   "execution_count": 15,
   "metadata": {},
   "outputs": [],
   "source": [
    "# Re-order columns to a better sequence\n",
    "subset = ['id', 'name', 'fema_l1', 'categories', 'latitude', 'longitude', 'review_count', 'rating', 'price', \n",
    "          'zip_code', 'city', 'state', 'country', 'display_address', 'display_phone', 'alias', 'phone','address1', \n",
    "          'address2', 'address3','is_closed','url','distance', 'image_url', 'transactions']\n",
    "\n",
    "df = df[subset]"
   ]
  },
  {
   "cell_type": "code",
   "execution_count": 17,
   "metadata": {},
   "outputs": [],
   "source": [
    "# Sort dataframe by 'id' and reset the index to this sequence\n",
    "df.sort_values(by='id', inplace = True)\n",
    "df.reset_index(inplace=True)\n",
    "# Drop duplicate rows with the same ID and Fema Lifeline number\n",
    "df.drop_duplicates(subset=['id', 'fema_l1'], keep = \"first\", inplace=True)\n",
    "df.shape\n",
    "\n",
    "# Drop the old index column\n",
    "df.drop(columns=\"index\", inplace = True)"
   ]
  },
  {
   "cell_type": "code",
   "execution_count": 18,
   "metadata": {},
   "outputs": [],
   "source": [
    "# Clean up the string format in 'categories' series \n",
    "df[\"categories\"] = df[\"categories\"].map(lambda string: string.replace(\"[\", \"\"))\n",
    "df[\"categories\"] = df[\"categories\"].map(lambda string: string.replace(\"]\", \"\"))\n",
    "df[\"categories\"] = df[\"categories\"].map(lambda string: string.replace(\"'\",\"\"))\n",
    "df[\"categories\"] = df[\"categories\"].map(lambda string: string.split(',')[0])"
   ]
  },
  {
   "cell_type": "code",
   "execution_count": 19,
   "metadata": {},
   "outputs": [],
   "source": [
    "# Define a function to map through the listing 'name' and return the lifeline number\n",
    "def get_all_lifelines(name):\n",
    "    subset = df[df['name'] == name]\n",
    "    lifelines = list(set(subset['fema_l1']))\n",
    "    return lifelines"
   ]
  },
  {
   "cell_type": "code",
   "execution_count": 20,
   "metadata": {},
   "outputs": [],
   "source": [
    "# Create a dictionary of the listing name and its list of all lifeline numbers\n",
    "all_names_lifelines = {}\n",
    "\n",
    "for name in list(set(df['name'])):\n",
    "    all_names_lifelines[name] = get_all_lifelines(name)\n",
    "\n",
    "# Create a new 'all lifelines' series and use the function above to populate lifeline numbers \n",
    "df['all_lifelines'] = df['name'].map(all_names_lifelines)"
   ]
  },
  {
   "cell_type": "code",
   "execution_count": 22,
   "metadata": {},
   "outputs": [],
   "source": [
    "# Manually create dummy columns for each lifeline \n",
    "df['lifeline_1'] = 0\n",
    "df['lifeline_2'] = 0\n",
    "df['lifeline_3'] = 0\n",
    "df['lifeline_4'] = 0\n",
    "df['lifeline_5'] = 0\n",
    "df['lifeline_6'] = 0\n",
    "df['lifeline_7'] = 0"
   ]
  },
  {
   "cell_type": "code",
   "execution_count": 23,
   "metadata": {},
   "outputs": [],
   "source": [
    "# Iterate over each row in 'all_lifelines' and populate 1 if in the sequence\n",
    "for ix, each in enumerate(df['all_lifelines']):\n",
    "    if 1 in each:\n",
    "        df.loc[ix, 'lifeline_1'] = int(1)\n",
    "    if 2 in each:\n",
    "        df.loc[ix, 'lifeline_2'] = 1\n",
    "    if 3 in each:\n",
    "        df.loc[ix, 'lifeline_3'] = 1\n",
    "    if 4 in each:\n",
    "        df.loc[ix, 'lifeline_4'] = 1\n",
    "    if 5 in each:\n",
    "        df.loc[ix, 'lifeline_5'] = 1\n",
    "    if 6 in each:\n",
    "        df.loc[ix, 'lifeline_6'] = 1\n",
    "    if 7 in each:\n",
    "        df.loc[ix, 'lifeline_7'] = 1\n",
    "\n",
    "df.drop(columns=['fema_l1', 'all_lifelines'], inplace=True)"
   ]
  },
  {
   "cell_type": "code",
   "execution_count": 24,
   "metadata": {},
   "outputs": [],
   "source": [
    "# Drop unneccessary columns\n",
    "df.drop(columns=[\"distance\", \"phone\", \"image_url\", 'transactions' ], inplace = True)"
   ]
  },
  {
   "cell_type": "code",
   "execution_count": 25,
   "metadata": {},
   "outputs": [],
   "source": [
    "# Drop duplicates according to ID now that all Lifeline number are accounted for in each row\n",
    "df.drop_duplicates(subset=['id'], inplace = True)"
   ]
  },
  {
   "cell_type": "code",
   "execution_count": 26,
   "metadata": {},
   "outputs": [
    {
     "data": {
      "text/plain": [
       "id                    1\n",
       "name                  1\n",
       "categories            1\n",
       "latitude             12\n",
       "longitude            12\n",
       "review_count          1\n",
       "rating                1\n",
       "price                 1\n",
       "zip_code             28\n",
       "city                  1\n",
       "state                 1\n",
       "country               1\n",
       "display_address       1\n",
       "display_phone       269\n",
       "alias                 1\n",
       "address1            217\n",
       "address2           5417\n",
       "address3           6964\n",
       "is_closed             1\n",
       "url                   1\n",
       "lifeline_1            1\n",
       "lifeline_2            0\n",
       "lifeline_3            1\n",
       "lifeline_4            1\n",
       "lifeline_5            1\n",
       "lifeline_6            1\n",
       "lifeline_7            1\n",
       "dtype: int64"
      ]
     },
     "execution_count": 26,
     "metadata": {},
     "output_type": "execute_result"
    }
   ],
   "source": [
    "df.isnull().sum()"
   ]
  },
  {
   "cell_type": "code",
   "execution_count": 27,
   "metadata": {},
   "outputs": [],
   "source": [
    "# Fill null values in the address series and concatenate them into one column\n",
    "df[\"address1\"].fillna(\" \", inplace=True)\n",
    "df[\"address2\"].fillna(\" \", inplace=True)\n",
    "df[\"address3\"].fillna(\" \", inplace=True)\n",
    "df[\"address\"] = df[\"address1\"].str.cat(df[\"address2\"], sep= \" \")\n",
    "df[\"address\"] = df[\"address\"].str.cat(df[\"address3\"], sep= \" \")\n",
    "\n",
    "# Drop the address columns\n",
    "df.drop(columns=[\"address1\", \"address2\", \"address3\"], inplace=True)\n",
    "\n",
    "# Fill null phone listings\n",
    "df[\"display_phone\"].fillna(\"000-000-000\", inplace=True)\n",
    "\n",
    "# Fill null 'price' cells\n",
    "df[\"price\"] = df[\"price\"].map(lambda x: np.nan if x == \"NAN\" else x)\n",
    "\n",
    "# Drop rows where 'latitude' and 'longitude' series are null \n",
    "df.dropna(axis = 0, subset=[\"latitude\", \"longitude\"], inplace = True)"
   ]
  },
  {
   "cell_type": "code",
   "execution_count": 28,
   "metadata": {},
   "outputs": [
    {
     "data": {
      "text/plain": [
       "id                    0\n",
       "name                  0\n",
       "categories            0\n",
       "latitude              0\n",
       "longitude             0\n",
       "review_count          0\n",
       "rating                0\n",
       "price              3177\n",
       "zip_code             16\n",
       "city                  0\n",
       "state                 0\n",
       "country               0\n",
       "display_address       0\n",
       "display_phone         0\n",
       "alias                 0\n",
       "is_closed             0\n",
       "url                   0\n",
       "lifeline_1            0\n",
       "lifeline_2            0\n",
       "lifeline_3            0\n",
       "lifeline_4            0\n",
       "lifeline_5            0\n",
       "lifeline_6            0\n",
       "lifeline_7            0\n",
       "address               0\n",
       "dtype: int64"
      ]
     },
     "execution_count": 28,
     "metadata": {},
     "output_type": "execute_result"
    }
   ],
   "source": [
    "df.isnull().sum()"
   ]
  },
  {
   "cell_type": "code",
   "execution_count": 29,
   "metadata": {
    "scrolled": true
   },
   "outputs": [
    {
     "data": {
      "text/plain": [
       "(7157, 25)"
      ]
     },
     "execution_count": 29,
     "metadata": {},
     "output_type": "execute_result"
    }
   ],
   "source": [
    "df.shape"
   ]
  },
  {
   "cell_type": "code",
   "execution_count": 31,
   "metadata": {},
   "outputs": [
    {
     "data": {
      "text/html": [
       "<div>\n",
       "<style scoped>\n",
       "    .dataframe tbody tr th:only-of-type {\n",
       "        vertical-align: middle;\n",
       "    }\n",
       "\n",
       "    .dataframe tbody tr th {\n",
       "        vertical-align: top;\n",
       "    }\n",
       "\n",
       "    .dataframe thead th {\n",
       "        text-align: right;\n",
       "    }\n",
       "</style>\n",
       "<table border=\"1\" class=\"dataframe\">\n",
       "  <thead>\n",
       "    <tr style=\"text-align: right;\">\n",
       "      <th></th>\n",
       "      <th>id</th>\n",
       "      <th>name</th>\n",
       "      <th>categories</th>\n",
       "      <th>latitude</th>\n",
       "      <th>longitude</th>\n",
       "      <th>review_count</th>\n",
       "      <th>rating</th>\n",
       "      <th>price</th>\n",
       "      <th>zip_code</th>\n",
       "      <th>city</th>\n",
       "      <th>state</th>\n",
       "      <th>country</th>\n",
       "      <th>display_address</th>\n",
       "      <th>display_phone</th>\n",
       "      <th>alias</th>\n",
       "      <th>is_closed</th>\n",
       "      <th>url</th>\n",
       "      <th>lifeline_1</th>\n",
       "      <th>lifeline_2</th>\n",
       "      <th>lifeline_3</th>\n",
       "      <th>lifeline_4</th>\n",
       "      <th>lifeline_5</th>\n",
       "      <th>lifeline_6</th>\n",
       "      <th>lifeline_7</th>\n",
       "      <th>address</th>\n",
       "    </tr>\n",
       "  </thead>\n",
       "  <tbody>\n",
       "    <tr>\n",
       "      <th>0</th>\n",
       "      <td>--4m48NzUAHvTd4v0u5YIg</td>\n",
       "      <td>Christian's Tailgate Bar and Grill</td>\n",
       "      <td>sportsbars</td>\n",
       "      <td>29.752573</td>\n",
       "      <td>-95.376317</td>\n",
       "      <td>353.0</td>\n",
       "      <td>3.0</td>\n",
       "      <td>$$</td>\n",
       "      <td>77002</td>\n",
       "      <td>Houston</td>\n",
       "      <td>TX</td>\n",
       "      <td>US</td>\n",
       "      <td>['2000 Bagby St', 'Houston, TX 77002']</td>\n",
       "      <td>(713) 527-0261</td>\n",
       "      <td>christians-tailgate-bar-and-grill-houston</td>\n",
       "      <td>False</td>\n",
       "      <td>https://www.yelp.com/biz/christians-tailgate-b...</td>\n",
       "      <td>0.0</td>\n",
       "      <td>1.0</td>\n",
       "      <td>0.0</td>\n",
       "      <td>0.0</td>\n",
       "      <td>1.0</td>\n",
       "      <td>0.0</td>\n",
       "      <td>0.0</td>\n",
       "      <td>2000 Bagby St</td>\n",
       "    </tr>\n",
       "    <tr>\n",
       "      <th>3</th>\n",
       "      <td>--4uMhyYMhURrd3dgwe_mA</td>\n",
       "      <td>Tu-Go Kitchen</td>\n",
       "      <td>foodtrucks</td>\n",
       "      <td>29.710531</td>\n",
       "      <td>-95.381760</td>\n",
       "      <td>7.0</td>\n",
       "      <td>2.0</td>\n",
       "      <td>$$</td>\n",
       "      <td>77021</td>\n",
       "      <td>Houston</td>\n",
       "      <td>TX</td>\n",
       "      <td>US</td>\n",
       "      <td>['1 Hermann Park Ct', 'Houston, TX 77021']</td>\n",
       "      <td>(832) 910-7533</td>\n",
       "      <td>tu-go-kitchen-houston</td>\n",
       "      <td>False</td>\n",
       "      <td>https://www.yelp.com/biz/tu-go-kitchen-houston...</td>\n",
       "      <td>0.0</td>\n",
       "      <td>1.0</td>\n",
       "      <td>0.0</td>\n",
       "      <td>0.0</td>\n",
       "      <td>1.0</td>\n",
       "      <td>0.0</td>\n",
       "      <td>0.0</td>\n",
       "      <td>1 Hermann Park Ct</td>\n",
       "    </tr>\n",
       "    <tr>\n",
       "      <th>4</th>\n",
       "      <td>--tU4l_I9bKvJAeKYPbdSw</td>\n",
       "      <td>Treebeards</td>\n",
       "      <td>southern</td>\n",
       "      <td>29.755270</td>\n",
       "      <td>-95.363040</td>\n",
       "      <td>32.0</td>\n",
       "      <td>4.0</td>\n",
       "      <td>$</td>\n",
       "      <td>77010</td>\n",
       "      <td>Houston</td>\n",
       "      <td>TX</td>\n",
       "      <td>US</td>\n",
       "      <td>['1200 McKinney St', 'Ste 329', 'Houston, TX 7...</td>\n",
       "      <td>(713) 400-9595</td>\n",
       "      <td>treebeards-houston-3</td>\n",
       "      <td>False</td>\n",
       "      <td>https://www.yelp.com/biz/treebeards-houston-3?...</td>\n",
       "      <td>0.0</td>\n",
       "      <td>0.0</td>\n",
       "      <td>0.0</td>\n",
       "      <td>0.0</td>\n",
       "      <td>0.0</td>\n",
       "      <td>0.0</td>\n",
       "      <td>1.0</td>\n",
       "      <td>1200 McKinney St Ste 329</td>\n",
       "    </tr>\n",
       "    <tr>\n",
       "      <th>6</th>\n",
       "      <td>-07hPjEFeAZVe7XSHIz54A</td>\n",
       "      <td>Hollywood Sign Hike</td>\n",
       "      <td>hiking</td>\n",
       "      <td>34.120281</td>\n",
       "      <td>-118.316141</td>\n",
       "      <td>178.0</td>\n",
       "      <td>4.5</td>\n",
       "      <td>NaN</td>\n",
       "      <td>90068</td>\n",
       "      <td>Los Angeles</td>\n",
       "      <td>CA</td>\n",
       "      <td>US</td>\n",
       "      <td>['3200 Canyon Dr', 'Bronson Canyon Griffith Pa...</td>\n",
       "      <td>(323) 666-5046</td>\n",
       "      <td>hollywood-sign-hike-los-angeles</td>\n",
       "      <td>False</td>\n",
       "      <td>https://www.yelp.com/biz/hollywood-sign-hike-l...</td>\n",
       "      <td>0.0</td>\n",
       "      <td>0.0</td>\n",
       "      <td>1.0</td>\n",
       "      <td>0.0</td>\n",
       "      <td>0.0</td>\n",
       "      <td>0.0</td>\n",
       "      <td>0.0</td>\n",
       "      <td>3200 Canyon Dr   Bronson Canyon Griffith Park</td>\n",
       "    </tr>\n",
       "    <tr>\n",
       "      <th>7</th>\n",
       "      <td>-1hWNeXT09Sjwbref49wrg</td>\n",
       "      <td>Chase Bank</td>\n",
       "      <td>banks</td>\n",
       "      <td>29.829029</td>\n",
       "      <td>-95.429360</td>\n",
       "      <td>6.0</td>\n",
       "      <td>2.5</td>\n",
       "      <td>NaN</td>\n",
       "      <td>77018</td>\n",
       "      <td>Houston</td>\n",
       "      <td>TX</td>\n",
       "      <td>US</td>\n",
       "      <td>['4320 Ella Blvd', 'Houston, TX 77018']</td>\n",
       "      <td>(713) 680-4381</td>\n",
       "      <td>chase-bank-houston-174</td>\n",
       "      <td>False</td>\n",
       "      <td>https://www.yelp.com/biz/chase-bank-houston-17...</td>\n",
       "      <td>0.0</td>\n",
       "      <td>0.0</td>\n",
       "      <td>0.0</td>\n",
       "      <td>0.0</td>\n",
       "      <td>0.0</td>\n",
       "      <td>0.0</td>\n",
       "      <td>1.0</td>\n",
       "      <td>4320 Ella Blvd</td>\n",
       "    </tr>\n",
       "  </tbody>\n",
       "</table>\n",
       "</div>"
      ],
      "text/plain": [
       "                       id                                name  categories  \\\n",
       "0  --4m48NzUAHvTd4v0u5YIg  Christian's Tailgate Bar and Grill  sportsbars   \n",
       "3  --4uMhyYMhURrd3dgwe_mA                       Tu-Go Kitchen  foodtrucks   \n",
       "4  --tU4l_I9bKvJAeKYPbdSw                          Treebeards    southern   \n",
       "6  -07hPjEFeAZVe7XSHIz54A                 Hollywood Sign Hike      hiking   \n",
       "7  -1hWNeXT09Sjwbref49wrg                          Chase Bank       banks   \n",
       "\n",
       "    latitude   longitude  review_count  rating price zip_code         city  \\\n",
       "0  29.752573  -95.376317         353.0     3.0    $$    77002      Houston   \n",
       "3  29.710531  -95.381760           7.0     2.0    $$    77021      Houston   \n",
       "4  29.755270  -95.363040          32.0     4.0     $    77010      Houston   \n",
       "6  34.120281 -118.316141         178.0     4.5   NaN    90068  Los Angeles   \n",
       "7  29.829029  -95.429360           6.0     2.5   NaN    77018      Houston   \n",
       "\n",
       "  state country                                    display_address  \\\n",
       "0    TX      US             ['2000 Bagby St', 'Houston, TX 77002']   \n",
       "3    TX      US         ['1 Hermann Park Ct', 'Houston, TX 77021']   \n",
       "4    TX      US  ['1200 McKinney St', 'Ste 329', 'Houston, TX 7...   \n",
       "6    CA      US  ['3200 Canyon Dr', 'Bronson Canyon Griffith Pa...   \n",
       "7    TX      US            ['4320 Ella Blvd', 'Houston, TX 77018']   \n",
       "\n",
       "    display_phone                                      alias is_closed  \\\n",
       "0  (713) 527-0261  christians-tailgate-bar-and-grill-houston     False   \n",
       "3  (832) 910-7533                      tu-go-kitchen-houston     False   \n",
       "4  (713) 400-9595                       treebeards-houston-3     False   \n",
       "6  (323) 666-5046            hollywood-sign-hike-los-angeles     False   \n",
       "7  (713) 680-4381                     chase-bank-houston-174     False   \n",
       "\n",
       "                                                 url  lifeline_1  lifeline_2  \\\n",
       "0  https://www.yelp.com/biz/christians-tailgate-b...         0.0         1.0   \n",
       "3  https://www.yelp.com/biz/tu-go-kitchen-houston...         0.0         1.0   \n",
       "4  https://www.yelp.com/biz/treebeards-houston-3?...         0.0         0.0   \n",
       "6  https://www.yelp.com/biz/hollywood-sign-hike-l...         0.0         0.0   \n",
       "7  https://www.yelp.com/biz/chase-bank-houston-17...         0.0         0.0   \n",
       "\n",
       "   lifeline_3  lifeline_4  lifeline_5  lifeline_6  lifeline_7  \\\n",
       "0         0.0         0.0         1.0         0.0         0.0   \n",
       "3         0.0         0.0         1.0         0.0         0.0   \n",
       "4         0.0         0.0         0.0         0.0         1.0   \n",
       "6         1.0         0.0         0.0         0.0         0.0   \n",
       "7         0.0         0.0         0.0         0.0         1.0   \n",
       "\n",
       "                                         address  \n",
       "0                              2000 Bagby St      \n",
       "3                          1 Hermann Park Ct      \n",
       "4                     1200 McKinney St Ste 329    \n",
       "6  3200 Canyon Dr   Bronson Canyon Griffith Park  \n",
       "7                             4320 Ella Blvd      "
      ]
     },
     "execution_count": 31,
     "metadata": {},
     "output_type": "execute_result"
    }
   ],
   "source": [
    "df.head()"
   ]
  },
  {
   "cell_type": "code",
   "execution_count": 32,
   "metadata": {},
   "outputs": [],
   "source": [
    "path = \"../Datasets/cleaned_dataframe_houston.csv\"\n",
    "data_frame = df.to_csv(path, index = False)"
   ]
  },
  {
   "cell_type": "code",
   "execution_count": null,
   "metadata": {},
   "outputs": [],
   "source": []
  }
 ],
 "metadata": {
  "kernelspec": {
   "display_name": "Python 3",
   "language": "python",
   "name": "python3"
  },
  "language_info": {
   "codemirror_mode": {
    "name": "ipython",
    "version": 3
   },
   "file_extension": ".py",
   "mimetype": "text/x-python",
   "name": "python",
   "nbconvert_exporter": "python",
   "pygments_lexer": "ipython3",
   "version": "3.6.8"
  }
 },
 "nbformat": 4,
 "nbformat_minor": 2
}
