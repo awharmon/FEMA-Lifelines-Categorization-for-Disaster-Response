{
 "cells": [
  {
   "cell_type": "markdown",
   "metadata": {},
   "source": [
    "# Tweepy API\n",
    "\n",
    "This API allows us to return a realtime stream of tweets (probably just most recent tweets within a certain timeframe)"
   ]
  },
  {
   "cell_type": "code",
   "execution_count": 1,
   "metadata": {},
   "outputs": [
    {
     "name": "stdout",
     "output_type": "stream",
     "text": [
      "Collecting tweepy\n",
      "  Downloading https://files.pythonhosted.org/packages/d5/5f/daac4b4e9b30d7d2a6fdd16a880ff79f27918fe388e4dfc1983dec3a9876/tweepy-3.7.0-py2.py3-none-any.whl\n",
      "Requirement already satisfied: requests-oauthlib>=0.7.0 in /anaconda3/lib/python3.6/site-packages (from tweepy) (1.2.0)\n",
      "Requirement already satisfied: PySocks>=1.5.7 in /anaconda3/lib/python3.6/site-packages (from tweepy) (1.6.8)\n",
      "Requirement already satisfied: six>=1.10.0 in /anaconda3/lib/python3.6/site-packages (from tweepy) (1.12.0)\n",
      "Requirement already satisfied: requests>=2.11.1 in /anaconda3/lib/python3.6/site-packages (from tweepy) (2.21.0)\n",
      "Requirement already satisfied: oauthlib>=3.0.0 in /anaconda3/lib/python3.6/site-packages (from requests-oauthlib>=0.7.0->tweepy) (3.0.1)\n",
      "Requirement already satisfied: urllib3<1.25,>=1.21.1 in /anaconda3/lib/python3.6/site-packages (from requests>=2.11.1->tweepy) (1.24.1)\n",
      "Requirement already satisfied: chardet<3.1.0,>=3.0.2 in /anaconda3/lib/python3.6/site-packages (from requests>=2.11.1->tweepy) (3.0.4)\n",
      "Requirement already satisfied: certifi>=2017.4.17 in /anaconda3/lib/python3.6/site-packages (from requests>=2.11.1->tweepy) (2019.3.9)\n",
      "Requirement already satisfied: idna<2.9,>=2.5 in /anaconda3/lib/python3.6/site-packages (from requests>=2.11.1->tweepy) (2.8)\n",
      "Installing collected packages: tweepy\n",
      "Successfully installed tweepy-3.7.0\n"
     ]
    }
   ],
   "source": [
    "#!pip install tweepy"
   ]
  },
  {
   "cell_type": "code",
   "execution_count": 4,
   "metadata": {},
   "outputs": [
    {
     "name": "stdout",
     "output_type": "stream",
     "text": [
      "RT @kelseybuckles: famous anti-vaxxers as preventable illnesses: a thread\n",
      "\n",
      "1. kat von d/polio https://t.co/FXLpNMUtI4\n",
      "@DuckFanAccount ok fair\n",
      "To mor row #ad https://t.co/3MSJ5p7rOF\n",
      "I saw jonathan van ness in my office today which honestly has been the greatest birthday gift of all\n",
      "I feel like I’ve let a lot of people down today\n",
      "\n",
      "I’m sorry, tomorrow will be much better\n",
      "living in LA for over a year is excessive what r u trying to prove\n",
      "RT @joeygllghr: Hbd @cottoncandaddy I hope you have a birthday !\n",
      "I meant VIII btw\n",
      "me: does 2 podcasts and a 9 hour stream while sick and coughing every 2 minutes\n",
      "\n",
      "my throat the next day: voice bare… https://t.co/qvM60rri6Y\n",
      "@cottoncandaddy i been in LA too damn long\n",
      "RT @pissboymcgee: @cottoncandaddy hbd sloane!! hope it's a good one\n",
      "I'm in a public beef with an unsanctioned Japanese otter. I needed this. https://t.co/z7Yd7izRxY\n",
      "@DuckFanAccount EXCUSE ME WHAT\n",
      "leaving california after living here for 5 years... wild\n",
      "RT @roxiqt: @cottoncandaddy HAPPY BIRTHDAY https://t.co/lb1ecuNUqE\n",
      "RT @abbycohenwl: Happy Birthday to you, you magically hilarious @cottoncandaddy , you!! And many mooooooore 🎈🎈🎈🎈🎈🎈🎈🎈🎈🎈🎈🎈🎈\n",
      "RT @NASA_Technology: Every day is #EarthDay for Christy Hansen at @NASAGoddard, who works with scientists and engineers to put instrumentat…\n",
      "imagine not working 8 hours a day and being able to run your errands and.. idk... have some fun during the week. wild.\n",
      "Please vote for mat if he wins I’ll perform any song on the recorder just name it https://t.co/K7D0rG4APS\n",
      "I like to imagine that @samriegel has a special closet in his home full of just his special printed shirts of his and Matt's faces.\n",
      "@MichaelaOkla a bit yeah\n",
      "@cottoncandaddy Horrifying\n",
      "@MichaelaOkla YOUR FRIENDSHIP IS THE GREATEST GIFT I COULD ASK FOR\n",
      "@sug_knight you are a peach ilysm\n",
      "another hot man on this flight?? the lord really b telling me to fix my skin\n",
      "sometimes I check Facebook https://t.co/0WicVYfC5H\n",
      "Another fun longer stream today! New video just went live if you missed it! Check it out! \n",
      "\n",
      "😂… https://t.co/5LqEIAzcaO\n",
      "Final Fantasy VI, VII, IX\n",
      "Golden Sun\n",
      "Earthbound \n",
      "Chrono Trigger\n",
      "Tales of Phantasia\n",
      "Original Harvest Moon\n",
      "Fable https://t.co/0puM9iRBiD\n",
      "ITS SLOANE’S FUCKEN BIRTHDAY\n",
      "auto chesss tourney tomorrow. gonna be practicing some auto chess later tonight\n",
      "\n",
      "https://t.co/9yjkLOBRv6\n",
      "RT @AidaraRose: How in the world am I supposed to resist? https://t.co/hJse1QZLpx\n",
      "RT @JillianKarger: *bangs on side of computer* validate me, you piece of shit\n",
      "#EarthDay https://t.co/cmppFAVzsY\n",
      "What do you want done with your body after you die?\n",
      "With Noblegarden starting today, check out our list of some of the notable Eggs in WoW! https://t.co/AoLBmv2isM https://t.co/yNSW29KTHc\n",
      "Never accept the world as it appears to be, dare to see it for what it could be.\n",
      "\n",
      "Happy #EarthDay, heroes. https://t.co/POOnPBEi5T\n",
      "RT @Little__Gaming: I just wanted to draw a little something as a congrats to @Jenownzz and @ScottJund !! https://t.co/RdTEdQfoys\n",
      "lady: elmo, what’s your favorite part of living on Sesame Street \n",
      "\n",
      "elmo: Elmo loves nighttime on Sesame Street!\n",
      "\n",
      "la… https://t.co/F9qZEFGGes\n",
      "We know you love Earth, but how much do you know about it? 🤔 When the solar system settled into its current layout… https://t.co/XEoGyz0ZHn\n",
      "director: that's a wrap! thanks everyone!\n",
      "\n",
      "elmo: [lighting a cigarette] day in. day out. elmo has to be happy.  elm… https://t.co/TfDQq31L0m\n",
      "Powerstone II\n",
      "\n",
      "Iggys Reckin’ Balls\n",
      "\n",
      "Jet Force Gemini\n",
      "\n",
      "Mischief Makers\n",
      "\n",
      "Bomberman 64\n",
      "\n",
      "Diddy Kong Racing\n",
      "\n",
      "Chameleon T… https://t.co/2490ADigWP\n",
      "@cottoncandaddy That's great\n",
      "GRACIE!\n",
      "\n",
      "Have a good day!\n",
      "Sincerely,\n",
      "SARAH SCHAUER, UNLICENSED MD\n",
      "RT @davidcsaint: love how restaurants use buzzers to tell you your food is ready because I feel like I just won a game show but then rememb…\n",
      "@SJSchauer literally https://t.co/CXhmo2F7dx\n",
      "@cottoncandaddy Happy Birthday, __insertname___, you are now __insertage__! Congratulations.\n",
      "Fun stream dudes. Think im gonna play some Monster Hunter tomorrow to start the day. Been a minute.\n",
      "If you’ve ever asked the question - \n",
      "\n",
      "“Is it possible for fans to massively over-analyze Game of Thrones?”\n",
      "\n",
      "The ans… https://t.co/iOeC9pWoga\n",
      "This generation of climate activists is tired of inaction, and they've caught the attention of leaders all over the… https://t.co/i8AM4miXL4\n",
      "And in the U.S., 13-year old @AlexandriaV2005 of New York, 13-year old @havenruthie of Denver, and 16-year old… https://t.co/aS6adg4Kh7\n",
      "I met 23-year-old @luisamneubauer in Berlin earlier this month. Luisa, the organizer behind the student movement in… https://t.co/GCaEtCcCkI\n"
     ]
    }
   ],
   "source": [
    "import tweepy\n",
    "from tweepy import OAuthHandler\n",
    "from tweepy.streaming import StreamListener\n",
    " \n",
    "consumer_key = '####################'\n",
    "consumer_secret = '####################'\n",
    "access_token = '####################'\n",
    "access_secret = '####################'\n",
    " \n",
    "auth = OAuthHandler(consumer_key, consumer_secret)\n",
    "auth.set_access_token(access_token, access_secret)\n",
    "api = tweepy.API(auth)\n",
    " \n",
    "for status in tweepy.Cursor(api.home_timeline).items(50):\n",
    "    print(status.text)"
   ]
  },
  {
   "cell_type": "markdown",
   "metadata": {},
   "source": [
    "Only returning items from my personal twitter feed?"
   ]
  }
 ],
 "metadata": {
  "kernelspec": {
   "display_name": "Python 3",
   "language": "python",
   "name": "python3"
  },
  "language_info": {
   "codemirror_mode": {
    "name": "ipython",
    "version": 3
   },
   "file_extension": ".py",
   "mimetype": "text/x-python",
   "name": "python",
   "nbconvert_exporter": "python",
   "pygments_lexer": "ipython3",
   "version": "3.6.8"
  }
 },
 "nbformat": 4,
 "nbformat_minor": 2
}
