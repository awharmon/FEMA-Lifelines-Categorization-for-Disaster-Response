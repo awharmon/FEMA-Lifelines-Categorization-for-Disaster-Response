{
 "cells": [
  {
   "cell_type": "markdown",
   "metadata": {},
   "source": [
    "# Python-Twitter API\n",
    "\n",
    "This API allows us to input a search query to return tweets (like you would in the search bar on twitter itself)\n",
    "\n",
    "We can then pass in a 'geocode' to search for tweets within a radius of a lat/long"
   ]
  },
  {
   "cell_type": "code",
   "execution_count": 2,
   "metadata": {},
   "outputs": [],
   "source": [
    "#!pip install python-twitter"
   ]
  },
  {
   "cell_type": "code",
   "execution_count": 3,
   "metadata": {},
   "outputs": [],
   "source": [
    "import twitter\n",
    "import json\n",
    "\n",
    "import pandas as pd\n",
    "import time"
   ]
  },
  {
   "cell_type": "code",
   "execution_count": 4,
   "metadata": {},
   "outputs": [],
   "source": [
    "api = twitter.Api(consumer_key = '####################',\n",
    "                  consumer_secret = '####################',\n",
    "                  access_token_key = '####################',\n",
    "                  access_token_secret = '####################')"
   ]
  },
  {
   "cell_type": "code",
   "execution_count": 37,
   "metadata": {},
   "outputs": [
    {
     "data": {
      "text/plain": [
       "13"
      ]
     },
     "execution_count": 37,
     "metadata": {},
     "output_type": "execute_result"
    }
   ],
   "source": [
    "# testing search term query\n",
    "results_hawaii = api.GetSearch(\n",
    "    raw_query=\"q=%23hawaii&src=tyah\") # Query goes here\n",
    "len(results_hawaii)"
   ]
  },
  {
   "cell_type": "code",
   "execution_count": 38,
   "metadata": {},
   "outputs": [
    {
     "data": {
      "text/plain": [
       "[Status(ID=1120728225322348546, ScreenName=peeta333, Created=Tue Apr 23 16:36:45 +0000 2019, Text='Ahh #maui we have missed you. This place was amazing. Such a beautiful place. Could have spent all day there.… https://t.co/fYKaJnXViS'),\n",
       " Status(ID=1120727964780498944, ScreenName=directtodole, Created=Tue Apr 23 16:35:43 +0000 2019, Text='Sometimes, all paths lead to pineapple! #directtodole #hawaii #pineapple #wander https://t.co/j7xysuvvFp https://t.co/gyi6xGGvi0'),\n",
       " Status(ID=1120727701751390214, ScreenName=supiamom_, Created=Tue Apr 23 16:34:40 +0000 2019, Text='RT @YG_WINNER: [IG] 190423 w_n_r00: #winner #climbworks #hawaii\\n\\n#YOON #HOONY #JINU #MINO #위너 https://t.co/5KJkrWKkTn https://t.co/rDTtz58K…'),\n",
       " Status(ID=1120727628707581953, ScreenName=JohnBrownHawaii, Created=Tue Apr 23 16:34:23 +0000 2019, Text='#aloha from #Hawaii    Happy aloha Tuesday https://t.co/Q8ZfQXf2jR'),\n",
       " Status(ID=1120727578547867649, ScreenName=DShojiNakamoto, Created=Tue Apr 23 16:34:11 +0000 2019, Text='RT @Hookena30: \"A Mothers\\' Love\" Mothers Day Concert is coming up soon! Mahalo to @AlaMoanaHotel For hosting us! Tix call 808-944-4333 - Su…'),\n",
       " Status(ID=1120727326889791488, ScreenName=Mavis46640396, Created=Tue Apr 23 16:33:11 +0000 2019, Text='RT @UpOsmond: #OnThisDay 1978 On The Stunning Island Of Oahu #Hawaii  🌴🌺@donnyosmond &amp; @marieosmond Finished Recording  #GoinCoconuts \\U0001f965🎬 Lo…'),\n",
       " Status(ID=1120726849200386050, ScreenName=iKingMYDAS, Created=Tue Apr 23 16:31:17 +0000 2019, Text='#newmusic #worldstar #miami #univision #beverlyhills #worldlatinstar @ikingmydas #sanpedro #bayarea #calabasas… https://t.co/AXRv6oJm7J'),\n",
       " Status(ID=1120726629238607872, ScreenName=TauroniPhoto, Created=Tue Apr 23 16:30:25 +0000 2019, Text='Placeres de la vida que solo ocurren una vez, atardeceres en #hawaii #maui .\\n.\\n.\\n.\\n#travelphotography #photography… https://t.co/9GtEs4vHir'),\n",
       " Status(ID=1120726589686337536, ScreenName=PokornyDave, Created=Tue Apr 23 16:30:15 +0000 2019, Text='★★★★★ Fire Extinguishers | Fire Safety Equipment https://t.co/l4tiKusbIV #washington #alaska #alabama #arkansas… https://t.co/3Q6gFQOn0D'),\n",
       " Status(ID=1120726560812593152, ScreenName=jskap_, Created=Tue Apr 23 16:30:08 +0000 2019, Text='Donate to the Jaden birthday (fun)d \\U0001f92a Venmo @jskap_ #birthday #birthdayfun #hawaii #soready #sugardaddy #mkney… https://t.co/NWAyWKfaiq'),\n",
       " Status(ID=1120725857159581702, ScreenName=0ok, Created=Tue Apr 23 16:27:21 +0000 2019, Text='A rare, cliff-dwelling, Hawaiian hibiscus flower–scientifically known as Hibiscadelphus woodii–that was previously… https://t.co/GaSyDgapOr'),\n",
       " Status(ID=1120725599755091969, ScreenName=Khaled78180133, Created=Tue Apr 23 16:26:19 +0000 2019, Text='RT @CitizensRW: #Health as a Human Right: No #Migrants Need Apply\\n#CRWnews #HumanRights #CitizensRights #Hawaii https://t.co/XG11y5DKBi'),\n",
       " Status(ID=1120725303146569728, ScreenName=INVASBio, Created=Tue Apr 23 16:25:08 +0000 2019, Text='#Drone helps botanists in #Hawaii to find a #flower that they thought was extinct. Hibiscadelphus woodii, to give i… https://t.co/vcm5Uh8aa3')]"
      ]
     },
     "execution_count": 38,
     "metadata": {},
     "output_type": "execute_result"
    }
   ],
   "source": [
    "results_hawaii"
   ]
  },
  {
   "cell_type": "code",
   "execution_count": 56,
   "metadata": {},
   "outputs": [],
   "source": [
    "# testing latitude/longitude query\n",
    "results_hawaii = api.GetSearch(geocode=('22.050287','-159.531359',\"10mi\"))"
   ]
  },
  {
   "cell_type": "code",
   "execution_count": 57,
   "metadata": {},
   "outputs": [
    {
     "data": {
      "text/plain": [
       "2"
      ]
     },
     "execution_count": 57,
     "metadata": {},
     "output_type": "execute_result"
    }
   ],
   "source": [
    "len(results_hawaii)"
   ]
  },
  {
   "cell_type": "code",
   "execution_count": 58,
   "metadata": {},
   "outputs": [
    {
     "data": {
      "text/plain": [
       "[Status(ID=1120722589062586369, ScreenName=passports2life, Created=Tue Apr 23 16:14:21 +0000 2019, Text='Coming up for air\\n:\\n:\\nWe have been non-stop on the go for the whole month of April. May will be the month we come u… https://t.co/w7cj5lJUBO'),\n",
       " Status(ID=1120718545703202816, ScreenName=humbergirl15, Created=Tue Apr 23 15:58:17 +0000 2019, Text='Jaw-dropping landscapes and nature! 😧😵😍 @ Kauai Marriott Resort https://t.co/9e8dkW2b8p')]"
      ]
     },
     "execution_count": 58,
     "metadata": {},
     "output_type": "execute_result"
    }
   ],
   "source": [
    "[each for each in results_hawaii]"
   ]
  },
  {
   "cell_type": "code",
   "execution_count": null,
   "metadata": {},
   "outputs": [],
   "source": []
  }
 ],
 "metadata": {
  "kernelspec": {
   "display_name": "Python 3",
   "language": "python",
   "name": "python3"
  },
  "language_info": {
   "codemirror_mode": {
    "name": "ipython",
    "version": 3
   },
   "file_extension": ".py",
   "mimetype": "text/x-python",
   "name": "python",
   "nbconvert_exporter": "python",
   "pygments_lexer": "ipython3",
   "version": "3.6.8"
  }
 },
 "nbformat": 4,
 "nbformat_minor": 2
}
